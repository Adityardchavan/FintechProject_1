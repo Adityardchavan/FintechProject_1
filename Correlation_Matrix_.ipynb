{
  "nbformat": 4,
  "nbformat_minor": 0,
  "metadata": {
    "colab": {
      "provenance": [],
      "authorship_tag": "ABX9TyNn5aXunWToLB31eLgX6OVm",
      "include_colab_link": true
    },
    "kernelspec": {
      "name": "python3",
      "display_name": "Python 3"
    },
    "language_info": {
      "name": "python"
    }
  },
  "cells": [
    {
      "cell_type": "markdown",
      "metadata": {
        "id": "view-in-github",
        "colab_type": "text"
      },
      "source": [
        "<a href=\"https://colab.research.google.com/github/Adityardchavan/FintechProject_1/blob/master/Correlation_Matrix_.ipynb\" target=\"_parent\"><img src=\"https://colab.research.google.com/assets/colab-badge.svg\" alt=\"Open In Colab\"/></a>"
      ]
    },
    {
      "cell_type": "code",
      "execution_count": 5,
      "metadata": {
        "id": "ughxTuG9cGc3"
      },
      "outputs": [],
      "source": [
        "import pandas as pd"
      ]
    },
    {
      "cell_type": "code",
      "source": [
        "data = pd.read_csv('/content/CORRELATION MATRIX.csv')\n",
        "data.head()"
      ],
      "metadata": {
        "id": "f2Z2923WcPMb"
      },
      "execution_count": null,
      "outputs": []
    },
    {
      "cell_type": "code",
      "source": [
        "#Creating a Data Frame and Storing Values in it\n",
        "df= pd.DataFrame(data, columns=['BTC','HBAR','ETH','BUSD','VECHAIN','IOTA'])\n",
        "df"
      ],
      "metadata": {
        "id": "SLjGTJ3idKNU"
      },
      "execution_count": null,
      "outputs": []
    },
    {
      "cell_type": "code",
      "source": [
        "corr = df.corr()\n",
        "df.corr().round(3)\n",
        "corr.style.background_gradient(cmap='coolwarm')"
      ],
      "metadata": {
        "id": "BUGdul6seHJ1"
      },
      "execution_count": null,
      "outputs": []
    }
  ]
}