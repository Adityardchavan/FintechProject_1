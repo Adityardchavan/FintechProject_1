{
  "nbformat": 4,
  "nbformat_minor": 0,
  "metadata": {
    "colab": {
      "provenance": [],
      "include_colab_link": true
    },
    "kernelspec": {
      "name": "python3",
      "display_name": "Python 3"
    },
    "language_info": {
      "name": "python"
    }
  },
  "cells": [
    {
      "cell_type": "markdown",
      "metadata": {
        "id": "view-in-github",
        "colab_type": "text"
      },
      "source": [
        "<a href=\"https://colab.research.google.com/github/Adityardchavan/FintechProject_1/blob/master/CRYPTO_PREDICTION_CODEipynb_(1).ipynb\" target=\"_parent\"><img src=\"https://colab.research.google.com/assets/colab-badge.svg\" alt=\"Open In Colab\"/></a>"
      ]
    },
    {
      "cell_type": "markdown",
      "source": [
        "# **Python Code for Predicting Cryptocurrency Prices based on the LSTM Model**\n",
        "**Author @Aditya Chavan**"
      ],
      "metadata": {
        "id": "xio_c07I1XhZ"
      }
    },
    {
      "cell_type": "code",
      "execution_count": null,
      "metadata": {
        "id": "2uLrYjZ873gl"
      },
      "outputs": [],
      "source": [
        "import numpy as np\n",
        "import pandas as pd\n",
        "import matplotlib.pyplot as plt\n",
        "import math\n",
        "from sklearn.preprocessing import MinMaxScaler\n",
        "from sklearn import metrics as  mt\n",
        "from sklearn.metrics import confusion_matrix, accuracy_score\n",
        "from keras.models import Sequential\n",
        "from keras.layers import Dense, LSTM"
      ]
    },
    {
      "cell_type": "code",
      "source": [
        "data=pd.read_csv(\"File.csv\")\n",
        "data.head()"
      ],
      "metadata": {
        "id": "ib18H_QZ8eXY"
      },
      "execution_count": null,
      "outputs": []
    },
    {
      "cell_type": "code",
      "source": [
        "#  Plotting date vs the close market stock price\n",
        "data.plot('Date','Close',color=\"red\")\n",
        " \n",
        " \n",
        "plt.show()"
      ],
      "metadata": {
        "id": "yyL8vY_oLEgw"
      },
      "execution_count": null,
      "outputs": []
    },
    {
      "cell_type": "code",
      "source": [
        "# 1. Filter out the closing market price data\n",
        "close_data = data.filter(['Close'])\n",
        " \n",
        "# 2. Convert the data into array for easy evaluation\n",
        "dataset = close_data.values\n",
        " \n",
        "# 3. Scale/Normalize the data to make all values between 0 and 1\n",
        "scaler = MinMaxScaler(feature_range=(0, 1))\n",
        "scaled_data = scaler.fit_transform(dataset)\n",
        " \n",
        "# 4. Creating training data size : 70% of the data\n",
        "training_data_len = math.ceil(len(dataset) *.80)\n",
        "train_data = scaled_data[0:training_data_len  , : ]\n",
        " \n",
        "# 5. Separating the data into x and y data\n",
        "x_train_data=[]\n",
        "y_train_data =[]\n",
        "for i in range(60,len(train_data)):\n",
        "    x_train_data=list(x_train_data)\n",
        "    y_train_data=list(y_train_data)\n",
        "    x_train_data.append(train_data[i-60:i,0])\n",
        "    y_train_data.append(train_data[i,0])\n",
        " \n",
        "    # 6. Converting the training x and y values to numpy arrays\n",
        "    x_train_data1, y_train_data1 = np.array(x_train_data), np.array(y_train_data)\n",
        " \n",
        "    # 7. Reshaping training x and y data to make the calculations easier\n",
        "    x_train_data2 = np.reshape(x_train_data1, (x_train_data1.shape[0],x_train_data1.shape[1],1))\n"
      ],
      "metadata": {
        "id": "zDp0VkHMLdzG"
      },
      "execution_count": null,
      "outputs": []
    },
    {
      "cell_type": "code",
      "source": [
        "model = Sequential()\n",
        "model.add(LSTM(units=75, return_sequences=True,input_shape=(x_train_data2.shape[1],1)))\n",
        "model.add(LSTM(units=75, return_sequences=False))\n",
        "model.add(Dense(units=25))\n",
        "model.add(Dense(units=1))"
      ],
      "metadata": {
        "id": "h2yGTdqI9KX-"
      },
      "execution_count": null,
      "outputs": []
    },
    {
      "cell_type": "code",
      "source": [
        "model.compile(optimizer='adam', loss='mean_squared_error')\n",
        "model.fit(x_train_data2, y_train_data1, batch_size=1, epochs=1)"
      ],
      "metadata": {
        "colab": {
          "base_uri": "https://localhost:8080/"
        },
        "id": "uYfzpnIM9OQd",
        "outputId": "947dedce-6356-4d0c-94d3-dac9ae2e33ca"
      },
      "execution_count": null,
      "outputs": [
        {
          "output_type": "stream",
          "name": "stdout",
          "text": [
            "232/232 [==============================] - 20s 61ms/step - loss: 0.0031\n"
          ]
        },
        {
          "output_type": "execute_result",
          "data": {
            "text/plain": [
              "<keras.callbacks.History at 0x7fd846400a10>"
            ]
          },
          "metadata": {},
          "execution_count": 6
        }
      ]
    },
    {
      "cell_type": "code",
      "source": [
        "# 1. Creating a dataset for testing\n",
        "test_data = scaled_data[training_data_len - 60: , : ]\n",
        "x_test = []\n",
        "y_test =  dataset[training_data_len : , : ]\n",
        "for i in range(60,len(test_data)):\n",
        "    x_test.append(test_data[i-60:i,0])\n",
        " \n",
        "# 2.  Convert the values into arrays for easier computation\n",
        "x_test = np.array(x_test)\n",
        "x_test = np.reshape(x_test, (x_test.shape[0],x_test.shape[1],1))\n",
        " \n",
        "\n",
        "\n",
        "# 3. Making predictions on the testing data\n",
        "predictions = model.predict(x_test)\n",
        "predictions = scaler.inverse_transform(predictions)\n",
        "\n"
      ],
      "metadata": {
        "colab": {
          "base_uri": "https://localhost:8080/"
        },
        "id": "_yScgX6ULnwP",
        "outputId": "8d7aaba9-30b9-4cbd-a3f9-292e83cf337e"
      },
      "execution_count": null,
      "outputs": [
        {
          "output_type": "stream",
          "name": "stdout",
          "text": [
            "3/3 [==============================] - 2s 33ms/step\n"
          ]
        }
      ]
    },
    {
      "cell_type": "code",
      "source": [
        "train = data[:training_data_len]\n",
        "valid = data[training_data_len:]\n",
        " \n",
        "valid['Predictions'] = predictions\n",
        " \n",
        "plt.title('Model')\n",
        "plt.xlabel('Date')\n",
        "plt.ylabel('Close')\n",
        " \n",
        "plt.plot(train['Close'])\n",
        "plt.plot(valid[['Close', 'Predictions']])\n",
        " \n",
        "plt.legend(['Train', 'Val', 'Predictions'], loc='upper right')\n",
        " \n",
        "plt.show()\n",
        "\n"
      ],
      "metadata": {
        "id": "rkHiZtDWLrx8"
      },
      "execution_count": null,
      "outputs": []
    },
    {
      "cell_type": "code",
      "source": [
        "#Real Mean Squared error to find success rate\n",
        "rmse=np.sqrt(np.mean(((predictions- y_test)**2)))\n",
        "print(rmse)"
      ],
      "metadata": {
        "id": "wF3Z4MS99YCx"
      },
      "execution_count": null,
      "outputs": []
    }
  ]
}